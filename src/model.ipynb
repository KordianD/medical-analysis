{
 "cells": [
  {
   "cell_type": "code",
   "execution_count": 170,
   "metadata": {},
   "outputs": [],
   "source": [
    "from keras.preprocessing.image import ImageDataGenerator\n",
    "from keras.preprocessing.image import *\n",
    "from keras.models import Sequential\n",
    "from keras.layers import Conv2D, MaxPooling2D\n",
    "from keras.layers import Activation, Dropout, Flatten, Dense, ZeroPadding2D\n",
    "from keras.layers import BatchNormalization\n",
    "from keras import initializers\n",
    "from keras import regularizers\n",
    "from keras.layers.advanced_activations import LeakyReLU\n",
    "\n",
    "\n"
   ]
  },
  {
   "cell_type": "code",
   "execution_count": 171,
   "metadata": {},
   "outputs": [
    {
     "data": {
      "text/plain": [
       "''"
      ]
     },
     "execution_count": 171,
     "metadata": {},
     "output_type": "execute_result"
    }
   ],
   "source": [
    "import tensorflow as tf\n",
    "\n",
    "tf.test.gpu_device_name()"
   ]
  },
  {
   "cell_type": "code",
   "execution_count": 172,
   "metadata": {},
   "outputs": [],
   "source": [
    "# Sizes of the scaled images\n",
    "height = 512\n",
    "width = 512\n",
    "\n",
    "ROOT_PATH = '../../ISIC-Archive-Downloader/Data/'\n",
    "\n",
    "\n",
    "train_directory_path = ROOT_PATH + 'train2'\n",
    "\n",
    "test_directory_path = ROOT_PATH + 'test'\n",
    "\n",
    "# Number of training example (10k cats + 10k dogs in train directory)\n",
    "train_samples = 20000\n",
    "validation_samples = 5000\n",
    "\n",
    "\n",
    "number_of_epochs = 40\n",
    "\n",
    "batch_size = 16"
   ]
  },
  {
   "cell_type": "code",
   "execution_count": 173,
   "metadata": {},
   "outputs": [
    {
     "name": "stdout",
     "output_type": "stream",
     "text": [
      "Found 4 images belonging to 2 classes.\n",
      "Found 6984 images belonging to 2 classes.\n"
     ]
    }
   ],
   "source": [
    "train_data = ImageDataGenerator(\n",
    "     rescale=1 / 255\n",
    ")#     shear_range=0.2,\n",
    "#     zoom_range=0.2,\n",
    "#     horizontal_flip=True)\n",
    "\n",
    "#train_data = ImageDataGenerator()\n",
    "\n",
    "test_datagen = ImageDataGenerator()\n",
    "\n",
    "train_generator = train_data.flow_from_directory(\n",
    "    train_directory_path,\n",
    "    target_size=(width, height),\n",
    "    batch_size=batch_size,\n",
    "    class_mode='binary')\n",
    "\n",
    "validation_generator = test_datagen.flow_from_directory(\n",
    "    test_directory_path,\n",
    "    target_size=(width, height),\n",
    "    batch_size=batch_size,\n",
    "    class_mode='binary')"
   ]
  },
  {
   "cell_type": "code",
   "execution_count": 174,
   "metadata": {},
   "outputs": [],
   "source": [
    "# We will be using ZeroPadding to ensure that after convolution sizes will stay the same\n",
    "# 'Glorot_uniform' - its Xavier initializer, to more sensible way to initialize weights rather than entirely randomly\n",
    "\n",
    "model = Sequential()\n",
    "\n",
    "model.add(Conv2D(32, (3, 3), input_shape=(width, height, 3)))\n",
    "model.add(Activation(\"relu\"))\n",
    "model.add(MaxPooling2D(pool_size=(2, 2)))\n",
    "\n",
    "model.add(Conv2D(64, (3, 3)))\n",
    "model.add(Activation(\"relu\"))\n",
    "model.add(MaxPooling2D(pool_size=(2, 2)))\n",
    "\n",
    "model.add(Conv2D(128, (3, 3)))\n",
    "model.add(Activation(\"relu\"))\n",
    "model.add(MaxPooling2D(pool_size=(2, 2)))\n",
    "\n",
    "model.add(Conv2D(256, (3, 3)))\n",
    "model.add(Activation(\"relu\"))\n",
    "model.add(MaxPooling2D(pool_size=(2, 2)))\n",
    "\n",
    "model.add(Conv2D(256, (3, 3)))\n",
    "model.add(Activation(\"relu\"))\n",
    "model.add(MaxPooling2D(pool_size=(2, 2)))\n",
    "\n",
    "\n",
    "model.add(Conv2D(256, (3, 3)))\n",
    "model.add(Activation(\"relu\"))\n",
    "model.add(MaxPooling2D(pool_size=(2, 2)))\n",
    "\n",
    "model.add(Flatten())\n",
    "model.add(Dense(4))\n",
    "model.add(Activation(\"relu\"))\n",
    "model.add(Dense(1))\n",
    "model.add(Activation(\"sigmoid\"))"
   ]
  },
  {
   "cell_type": "code",
   "execution_count": 175,
   "metadata": {},
   "outputs": [],
   "source": [
    "model.compile(optimizer='adam',\n",
    "              loss='binary_crossentropy',\n",
    "              metrics=['accuracy'])"
   ]
  },
  {
   "cell_type": "code",
   "execution_count": 176,
   "metadata": {},
   "outputs": [
    {
     "name": "stdout",
     "output_type": "stream",
     "text": [
      "Epoch 1/40\n",
      "1/1 [==============================] - 32s 32s/step - loss: 0.6933 - acc: 0.5000 - val_loss: 0.9476 - val_acc: 0.4531\n",
      "Epoch 2/40\n",
      "1/1 [==============================] - 29s 29s/step - loss: 0.6938 - acc: 0.2500 - val_loss: 0.5992 - val_acc: 0.7812\n",
      "Epoch 3/40\n",
      "1/1 [==============================] - 28s 28s/step - loss: 0.6928 - acc: 0.7500 - val_loss: 14.0741 - val_acc: 0.1172\n",
      "Epoch 4/40\n",
      "1/1 [==============================] - 28s 28s/step - loss: 0.7379 - acc: 0.5000 - val_loss: 13.5840 - val_acc: 0.1406\n",
      "Epoch 5/40\n",
      "1/1 [==============================] - 29s 29s/step - loss: 0.6880 - acc: 0.5000 - val_loss: 2.1407 - val_acc: 0.8672\n",
      "Epoch 6/40\n",
      "1/1 [==============================] - 28s 28s/step - loss: 0.6794 - acc: 0.5000 - val_loss: 1.1333 - val_acc: 0.9297\n",
      "Epoch 7/40\n",
      "1/1 [==============================] - 28s 28s/step - loss: 0.6635 - acc: 0.5000 - val_loss: 2.0148 - val_acc: 0.8750\n",
      "Epoch 8/40\n",
      "1/1 [==============================] - 28s 28s/step - loss: 0.6202 - acc: 0.5000 - val_loss: 3.3064 - val_acc: 0.7891\n",
      "Epoch 9/40\n",
      "1/1 [==============================] - 28s 28s/step - loss: 0.4711 - acc: 1.0000 - val_loss: 1.3824 - val_acc: 0.9141\n",
      "Epoch 10/40\n",
      "1/1 [==============================] - 28s 28s/step - loss: 0.2315 - acc: 1.0000 - val_loss: 2.0980 - val_acc: 0.8672\n",
      "Epoch 11/40\n",
      "1/1 [==============================] - 32s 32s/step - loss: 0.1322 - acc: 1.0000 - val_loss: 4.0666 - val_acc: 0.7422\n",
      "Epoch 12/40\n",
      "1/1 [==============================] - 29s 29s/step - loss: 0.0644 - acc: 1.0000 - val_loss: 3.2561 - val_acc: 0.7969\n",
      "Epoch 13/40\n",
      "1/1 [==============================] - 28s 28s/step - loss: 2.4826e-04 - acc: 1.0000 - val_loss: 2.7566 - val_acc: 0.8281\n",
      "Epoch 14/40\n",
      "1/1 [==============================] - 28s 28s/step - loss: 1.9251e-07 - acc: 1.0000 - val_loss: 2.8894 - val_acc: 0.8203\n",
      "Epoch 15/40\n",
      "1/1 [==============================] - 28s 28s/step - loss: 1.0960e-07 - acc: 1.0000 - val_loss: 1.6356 - val_acc: 0.8984\n",
      "Epoch 16/40\n",
      "1/1 [==============================] - 29s 29s/step - loss: 1.0960e-07 - acc: 1.0000 - val_loss: 1.8861 - val_acc: 0.8828\n",
      "Epoch 17/40\n",
      "1/1 [==============================] - 33s 33s/step - loss: 1.0960e-07 - acc: 1.0000 - val_loss: 2.0120 - val_acc: 0.8750\n",
      "Epoch 18/40\n",
      "1/1 [==============================] - 28s 28s/step - loss: 1.0960e-07 - acc: 1.0000 - val_loss: 2.3912 - val_acc: 0.8516\n",
      "Epoch 19/40\n",
      "1/1 [==============================] - 28s 28s/step - loss: 1.0960e-07 - acc: 1.0000 - val_loss: 1.5097 - val_acc: 0.9062\n",
      "Epoch 20/40\n",
      "1/1 [==============================] - 28s 28s/step - loss: 1.0960e-07 - acc: 1.0000 - val_loss: 1.7629 - val_acc: 0.8906\n",
      "Epoch 21/40\n",
      "1/1 [==============================] - 28s 28s/step - loss: 1.6921e-07 - acc: 1.0000 - val_loss: 1.8875 - val_acc: 0.8828\n",
      "Epoch 22/40\n",
      "1/1 [==============================] - 29s 29s/step - loss: 2.5534e-06 - acc: 1.0000 - val_loss: 1.5111 - val_acc: 0.9062\n",
      "Epoch 23/40\n",
      "1/1 [==============================] - 28s 28s/step - loss: 1.3806e-04 - acc: 1.0000 - val_loss: 1.7615 - val_acc: 0.8906\n",
      "Epoch 24/40\n",
      "1/1 [==============================] - 28s 28s/step - loss: 4.9781e-04 - acc: 1.0000 - val_loss: 3.1481 - val_acc: 0.8047\n",
      "Epoch 25/40\n",
      "1/1 [==============================] - 28s 28s/step - loss: 1.0960e-07 - acc: 1.0000 - val_loss: 2.6444 - val_acc: 0.8359\n",
      "Epoch 26/40\n",
      "1/1 [==============================] - 29s 29s/step - loss: 1.0960e-07 - acc: 1.0000 - val_loss: 1.6370 - val_acc: 0.8984\n",
      "Epoch 27/40\n",
      "1/1 [==============================] - 28s 28s/step - loss: 1.0960e-07 - acc: 1.0000 - val_loss: 1.5097 - val_acc: 0.9062\n",
      "Epoch 28/40\n",
      "1/1 [==============================] - 28s 28s/step - loss: 1.0960e-07 - acc: 1.0000 - val_loss: 2.0134 - val_acc: 0.8750\n",
      "Epoch 29/40\n",
      "1/1 [==============================] - 28s 28s/step - loss: 1.0960e-07 - acc: 1.0000 - val_loss: 1.6370 - val_acc: 0.8984\n",
      "Epoch 30/40\n",
      "1/1 [==============================] - 28s 28s/step - loss: 1.0960e-07 - acc: 1.0000 - val_loss: 1.7629 - val_acc: 0.8906\n",
      "Epoch 31/40\n",
      "1/1 [==============================] - 28s 28s/step - loss: 1.0960e-07 - acc: 1.0000 - val_loss: 2.6430 - val_acc: 0.8359\n",
      "Epoch 32/40\n",
      "1/1 [==============================] - 29s 29s/step - loss: 1.0960e-07 - acc: 1.0000 - val_loss: 1.8833 - val_acc: 0.8828\n",
      "Epoch 33/40\n",
      "1/1 [==============================] - 28s 28s/step - loss: 1.0960e-07 - acc: 1.0000 - val_loss: 2.3925 - val_acc: 0.8516\n",
      "Epoch 34/40\n",
      "1/1 [==============================] - 29s 29s/step - loss: 1.0960e-07 - acc: 1.0000 - val_loss: 2.2625 - val_acc: 0.8594\n",
      "Epoch 35/40\n",
      "1/1 [==============================] - 28s 28s/step - loss: 1.0960e-07 - acc: 1.0000 - val_loss: 1.5097 - val_acc: 0.9062\n",
      "Epoch 36/40\n",
      "1/1 [==============================] - 29s 29s/step - loss: 1.0960e-07 - acc: 1.0000 - val_loss: 1.6370 - val_acc: 0.8984\n",
      "Epoch 37/40\n",
      "1/1 [==============================] - 28s 28s/step - loss: 1.0960e-07 - acc: 1.0000 - val_loss: 2.0134 - val_acc: 0.8750\n",
      "Epoch 38/40\n",
      "1/1 [==============================] - 28s 28s/step - loss: 1.0960e-07 - acc: 1.0000 - val_loss: 3.1467 - val_acc: 0.8047\n",
      "Epoch 39/40\n",
      "1/1 [==============================] - 29s 29s/step - loss: 1.0960e-07 - acc: 1.0000 - val_loss: 1.7629 - val_acc: 0.8906\n",
      "Epoch 40/40\n",
      "1/1 [==============================] - 29s 29s/step - loss: 1.0960e-07 - acc: 1.0000 - val_loss: 1.8888 - val_acc: 0.8828\n"
     ]
    },
    {
     "data": {
      "text/plain": [
       "<keras.callbacks.History at 0x7fb2bfa0cda0>"
      ]
     },
     "execution_count": 176,
     "metadata": {},
     "output_type": "execute_result"
    }
   ],
   "source": [
    "model.fit_generator(\n",
    "    train_generator,\n",
    "    steps_per_epoch=1,\n",
    "    epochs=number_of_epochs,\n",
    "    validation_data=validation_generator,\n",
    "    validation_steps=8)"
   ]
  },
  {
   "cell_type": "code",
   "execution_count": 150,
   "metadata": {},
   "outputs": [
    {
     "name": "stdout",
     "output_type": "stream",
     "text": [
      "_________________________________________________________________\n",
      "Layer (type)                 Output Shape              Param #   \n",
      "=================================================================\n",
      "conv2d_94 (Conv2D)           (None, 510, 510, 32)      896       \n",
      "_________________________________________________________________\n",
      "activation_56 (Activation)   (None, 510, 510, 32)      0         \n",
      "_________________________________________________________________\n",
      "max_pooling2d_79 (MaxPooling (None, 255, 255, 32)      0         \n",
      "_________________________________________________________________\n",
      "conv2d_95 (Conv2D)           (None, 253, 253, 64)      18496     \n",
      "_________________________________________________________________\n",
      "activation_57 (Activation)   (None, 253, 253, 64)      0         \n",
      "_________________________________________________________________\n",
      "max_pooling2d_80 (MaxPooling (None, 126, 126, 64)      0         \n",
      "_________________________________________________________________\n",
      "conv2d_96 (Conv2D)           (None, 124, 124, 128)     73856     \n",
      "_________________________________________________________________\n",
      "activation_58 (Activation)   (None, 124, 124, 128)     0         \n",
      "_________________________________________________________________\n",
      "max_pooling2d_81 (MaxPooling (None, 62, 62, 128)       0         \n",
      "_________________________________________________________________\n",
      "conv2d_97 (Conv2D)           (None, 60, 60, 256)       295168    \n",
      "_________________________________________________________________\n",
      "activation_59 (Activation)   (None, 60, 60, 256)       0         \n",
      "_________________________________________________________________\n",
      "max_pooling2d_82 (MaxPooling (None, 30, 30, 256)       0         \n",
      "_________________________________________________________________\n",
      "conv2d_98 (Conv2D)           (None, 28, 28, 256)       590080    \n",
      "_________________________________________________________________\n",
      "activation_60 (Activation)   (None, 28, 28, 256)       0         \n",
      "_________________________________________________________________\n",
      "max_pooling2d_83 (MaxPooling (None, 14, 14, 256)       0         \n",
      "_________________________________________________________________\n",
      "conv2d_99 (Conv2D)           (None, 12, 12, 256)       590080    \n",
      "_________________________________________________________________\n",
      "activation_61 (Activation)   (None, 12, 12, 256)       0         \n",
      "_________________________________________________________________\n",
      "max_pooling2d_84 (MaxPooling (None, 6, 6, 256)         0         \n",
      "_________________________________________________________________\n",
      "flatten_32 (Flatten)         (None, 9216)              0         \n",
      "_________________________________________________________________\n",
      "dense_54 (Dense)             (None, 4)                 36868     \n",
      "_________________________________________________________________\n",
      "activation_62 (Activation)   (None, 4)                 0         \n",
      "_________________________________________________________________\n",
      "dense_55 (Dense)             (None, 1)                 5         \n",
      "_________________________________________________________________\n",
      "activation_63 (Activation)   (None, 1)                 0         \n",
      "=================================================================\n",
      "Total params: 1,605,449\n",
      "Trainable params: 1,605,449\n",
      "Non-trainable params: 0\n",
      "_________________________________________________________________\n"
     ]
    }
   ],
   "source": [
    "model.summary()"
   ]
  },
  {
   "cell_type": "code",
   "execution_count": null,
   "metadata": {},
   "outputs": [],
   "source": []
  }
 ],
 "metadata": {
  "kernelspec": {
   "display_name": "Python 3",
   "language": "python",
   "name": "python3"
  },
  "language_info": {
   "codemirror_mode": {
    "name": "ipython",
    "version": 3
   },
   "file_extension": ".py",
   "mimetype": "text/x-python",
   "name": "python",
   "nbconvert_exporter": "python",
   "pygments_lexer": "ipython3",
   "version": "3.7.1"
  }
 },
 "nbformat": 4,
 "nbformat_minor": 2
}
