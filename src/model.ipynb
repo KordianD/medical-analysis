{
 "cells": [
  {
   "cell_type": "code",
   "execution_count": 5,
   "metadata": {},
   "outputs": [],
   "source": [
    "from keras.preprocessing.image import ImageDataGenerator\n",
    "from keras.preprocessing.image import *\n",
    "from keras.models import Sequential\n",
    "from keras.layers import Conv2D, MaxPooling2D\n",
    "from keras.layers import Activation, Dropout, Flatten, Dense, ZeroPadding2D\n",
    "from keras.layers import BatchNormalization\n",
    "from keras import initializers\n",
    "from keras import regularizers\n",
    "from keras.layers.advanced_activations import LeakyReLU\n",
    "\n",
    "\n"
   ]
  },
  {
   "cell_type": "code",
   "execution_count": 6,
   "metadata": {},
   "outputs": [
    {
     "data": {
      "text/plain": [
       "''"
      ]
     },
     "execution_count": 6,
     "metadata": {},
     "output_type": "execute_result"
    }
   ],
   "source": [
    "import tensorflow as tf\n",
    "\n",
    "tf.test.gpu_device_name()"
   ]
  },
  {
   "cell_type": "code",
   "execution_count": 13,
   "metadata": {},
   "outputs": [],
   "source": [
    "# Sizes of the scaled images\n",
    "height = 512\n",
    "width = 512\n",
    "\n",
    "ROOT_PATH = '../../ISIC-Archive-Downloader/Data/'\n",
    "\n",
    "\n",
    "train_directory_path = ROOT_PATH + 'train2'\n",
    "\n",
    "test_directory_path = ROOT_PATH + 'test'\n",
    "\n",
    "# Number of training example (10k cats + 10k dogs in train directory)\n",
    "train_samples = 20000\n",
    "validation_samples = 5000\n",
    "\n",
    "\n",
    "number_of_epochs = 20\n",
    "\n",
    "batch_size = 16"
   ]
  },
  {
   "cell_type": "code",
   "execution_count": 14,
   "metadata": {},
   "outputs": [
    {
     "name": "stdout",
     "output_type": "stream",
     "text": [
      "Found 48 images belonging to 2 classes.\n",
      "Found 6984 images belonging to 2 classes.\n"
     ]
    }
   ],
   "source": [
    "# train_data = ImageDataGenerator(\n",
    "#     rescale=1 / 255,\n",
    "#     shear_range=0.2,\n",
    "#     zoom_range=0.2,\n",
    "#     horizontal_flip=True)\n",
    "\n",
    "train_data = ImageDataGenerator(\n",
    "     rescale=1 / 255)\n",
    "\n",
    "test_datagen = ImageDataGenerator(rescale=1 / 255)\n",
    "\n",
    "train_generator = train_data.flow_from_directory(\n",
    "    train_directory_path,\n",
    "    target_size=(width, height),\n",
    "    batch_size=batch_size,\n",
    "    class_mode='binary')\n",
    "\n",
    "validation_generator = test_datagen.flow_from_directory(\n",
    "    test_directory_path,\n",
    "    target_size=(width, height),\n",
    "    batch_size=batch_size,\n",
    "    class_mode='binary')"
   ]
  },
  {
   "cell_type": "code",
   "execution_count": 15,
   "metadata": {},
   "outputs": [],
   "source": [
    "# We will be using ZeroPadding to ensure that after convolution sizes will stay the same\n",
    "# 'Glorot_uniform' - its Xavier initializer, to more sensible way to initialize weights rather than entirely randomly\n",
    "\n",
    "model = Sequential()\n",
    "\n",
    "model.add(Conv2D(32, (3, 3), input_shape=(width, height, 3), kernel_initializer='glorot_uniform', padding='same'))\n",
    "model.add(BatchNormalization(axis=1))\n",
    "model.add(LeakyReLU(alpha=0.01))\n",
    "model.add(MaxPooling2D(pool_size=(2, 2)))\n",
    "          \n",
    "model.add(ZeroPadding2D(padding=(1, 1)))\n",
    "model.add(Conv2D(32, (3, 3), kernel_initializer='glorot_uniform'))\n",
    "model.add(BatchNormalization(axis=1))\n",
    "model.add(LeakyReLU(alpha=0.01))\n",
    "model.add(MaxPooling2D(pool_size=(2, 2)))\n",
    "\n",
    "model.add(ZeroPadding2D(padding=(1, 1)))\n",
    "model.add(Conv2D(64, (3, 3), kernel_initializer='glorot_uniform'))\n",
    "model.add(BatchNormalization(axis=1))\n",
    "model.add(LeakyReLU(alpha=0.01))\n",
    "model.add(MaxPooling2D(pool_size=(2, 2)))\n",
    "\n",
    "          \n",
    "model.add(Flatten())\n",
    "model.add(Dense(8, kernel_initializer='glorot_uniform'))\n",
    "model.add(LeakyReLU(alpha=0.01))\n",
    "model.add(Dense(1, activation='softmax'))"
   ]
  },
  {
   "cell_type": "code",
   "execution_count": 16,
   "metadata": {},
   "outputs": [],
   "source": [
    "model.compile(optimizer='adam',\n",
    "              loss='binary_crossentropy',\n",
    "              metrics=['accuracy'])"
   ]
  },
  {
   "cell_type": "code",
   "execution_count": null,
   "metadata": {},
   "outputs": [
    {
     "name": "stdout",
     "output_type": "stream",
     "text": [
      "Epoch 1/20\n",
      "2/2 [==============================] - 49s 24s/step - loss: 6.9748 - acc: 0.5625 - val_loss: 14.0741 - val_acc: 0.1172\n",
      "Epoch 2/20\n",
      "2/2 [==============================] - 57s 29s/step - loss: 8.9676 - acc: 0.4375 - val_loss: 13.9496 - val_acc: 0.1250\n",
      "Epoch 3/20\n",
      "2/2 [==============================] - 62s 31s/step - loss: 7.9712 - acc: 0.5000 - val_loss: 13.7005 - val_acc: 0.1406\n",
      "Epoch 4/20\n",
      "2/2 [==============================] - 47s 23s/step - loss: 7.9712 - acc: 0.5000 - val_loss: 13.9496 - val_acc: 0.1250\n",
      "Epoch 5/20\n",
      "2/2 [==============================] - 46s 23s/step - loss: 7.4730 - acc: 0.5312 - val_loss: 13.9496 - val_acc: 0.1250\n",
      "Epoch 6/20\n",
      "2/2 [==============================] - 48s 24s/step - loss: 8.4694 - acc: 0.4688 - val_loss: 14.4478 - val_acc: 0.0938\n",
      "Epoch 7/20\n",
      "2/2 [==============================] - 52s 26s/step - loss: 9.4658 - acc: 0.4062 - val_loss: 14.1987 - val_acc: 0.1094\n",
      "Epoch 8/20\n",
      "2/2 [==============================] - 59s 29s/step - loss: 5.4802 - acc: 0.6562 - val_loss: 14.3232 - val_acc: 0.1016\n",
      "Epoch 9/20\n",
      "2/2 [==============================] - 53s 27s/step - loss: 8.9676 - acc: 0.4375 - val_loss: 13.8250 - val_acc: 0.1328\n",
      "Epoch 10/20\n",
      "2/2 [==============================] - 46s 23s/step - loss: 7.9712 - acc: 0.5000 - val_loss: 14.3232 - val_acc: 0.1016\n",
      "Epoch 11/20\n",
      "2/2 [==============================] - 51s 26s/step - loss: 7.4730 - acc: 0.5312 - val_loss: 14.1987 - val_acc: 0.1094\n",
      "Epoch 12/20\n",
      "2/2 [==============================] - 47s 24s/step - loss: 8.4694 - acc: 0.4688 - val_loss: 14.0741 - val_acc: 0.1172\n",
      "Epoch 13/20\n",
      "2/2 [==============================] - 51s 25s/step - loss: 7.9712 - acc: 0.5000 - val_loss: 13.5759 - val_acc: 0.1484\n",
      "Epoch 14/20\n",
      "2/2 [==============================] - 52s 26s/step - loss: 7.4730 - acc: 0.5312 - val_loss: 14.4478 - val_acc: 0.0938\n",
      "Epoch 15/20\n",
      "2/2 [==============================] - 51s 26s/step - loss: 8.4694 - acc: 0.4688 - val_loss: 13.9496 - val_acc: 0.1250\n",
      "Epoch 16/20\n",
      "2/2 [==============================] - 45s 22s/step - loss: 6.9748 - acc: 0.5625 - val_loss: 13.3268 - val_acc: 0.1641\n",
      "Epoch 17/20\n",
      "2/2 [==============================] - 45s 23s/step - loss: 8.9676 - acc: 0.4375 - val_loss: 14.8214 - val_acc: 0.0703\n",
      "Epoch 18/20\n",
      "2/2 [==============================] - 71s 35s/step - loss: 7.9712 - acc: 0.5000 - val_loss: 14.5723 - val_acc: 0.0859\n",
      "Epoch 19/20\n",
      "1/2 [==============>...............] - ETA: 11s - loss: 7.9712 - acc: 0.5000"
     ]
    }
   ],
   "source": [
    "model.fit_generator(\n",
    "    train_generator,\n",
    "    steps_per_epoch=2,\n",
    "    epochs=number_of_epochs,\n",
    "    validation_data=validation_generator,\n",
    "    validation_steps=8)"
   ]
  },
  {
   "cell_type": "code",
   "execution_count": 11,
   "metadata": {},
   "outputs": [
    {
     "name": "stdout",
     "output_type": "stream",
     "text": [
      "_________________________________________________________________\n",
      "Layer (type)                 Output Shape              Param #   \n",
      "=================================================================\n",
      "conv2d_1 (Conv2D)            (None, 512, 512, 32)      896       \n",
      "_________________________________________________________________\n",
      "batch_normalization_1 (Batch (None, 512, 512, 32)      2048      \n",
      "_________________________________________________________________\n",
      "leaky_re_lu_1 (LeakyReLU)    (None, 512, 512, 32)      0         \n",
      "_________________________________________________________________\n",
      "max_pooling2d_1 (MaxPooling2 (None, 256, 256, 32)      0         \n",
      "_________________________________________________________________\n",
      "zero_padding2d_1 (ZeroPaddin (None, 258, 258, 32)      0         \n",
      "_________________________________________________________________\n",
      "conv2d_2 (Conv2D)            (None, 256, 256, 32)      9248      \n",
      "_________________________________________________________________\n",
      "batch_normalization_2 (Batch (None, 256, 256, 32)      1024      \n",
      "_________________________________________________________________\n",
      "leaky_re_lu_2 (LeakyReLU)    (None, 256, 256, 32)      0         \n",
      "_________________________________________________________________\n",
      "max_pooling2d_2 (MaxPooling2 (None, 128, 128, 32)      0         \n",
      "_________________________________________________________________\n",
      "zero_padding2d_2 (ZeroPaddin (None, 130, 130, 32)      0         \n",
      "_________________________________________________________________\n",
      "conv2d_3 (Conv2D)            (None, 128, 128, 64)      18496     \n",
      "_________________________________________________________________\n",
      "batch_normalization_3 (Batch (None, 128, 128, 64)      512       \n",
      "_________________________________________________________________\n",
      "leaky_re_lu_3 (LeakyReLU)    (None, 128, 128, 64)      0         \n",
      "_________________________________________________________________\n",
      "max_pooling2d_3 (MaxPooling2 (None, 64, 64, 64)        0         \n",
      "_________________________________________________________________\n",
      "flatten_1 (Flatten)          (None, 262144)            0         \n",
      "_________________________________________________________________\n",
      "dense_1 (Dense)              (None, 8)                 2097160   \n",
      "_________________________________________________________________\n",
      "leaky_re_lu_4 (LeakyReLU)    (None, 8)                 0         \n",
      "_________________________________________________________________\n",
      "dense_2 (Dense)              (None, 1)                 9         \n",
      "=================================================================\n",
      "Total params: 2,129,393\n",
      "Trainable params: 2,127,601\n",
      "Non-trainable params: 1,792\n",
      "_________________________________________________________________\n"
     ]
    }
   ],
   "source": [
    "model.summary()"
   ]
  },
  {
   "cell_type": "code",
   "execution_count": null,
   "metadata": {},
   "outputs": [],
   "source": []
  }
 ],
 "metadata": {
  "kernelspec": {
   "display_name": "Python 3",
   "language": "python",
   "name": "python3"
  },
  "language_info": {
   "codemirror_mode": {
    "name": "ipython",
    "version": 3
   },
   "file_extension": ".py",
   "mimetype": "text/x-python",
   "name": "python",
   "nbconvert_exporter": "python",
   "pygments_lexer": "ipython3",
   "version": "3.7.1"
  }
 },
 "nbformat": 4,
 "nbformat_minor": 2
}
