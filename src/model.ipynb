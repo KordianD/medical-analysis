{
 "cells": [
  {
   "cell_type": "code",
   "execution_count": 1,
   "metadata": {},
   "outputs": [
    {
     "name": "stderr",
     "output_type": "stream",
     "text": [
      "Using TensorFlow backend.\n"
     ]
    }
   ],
   "source": [
    "from keras.preprocessing.image import ImageDataGenerator\n",
    "from keras.preprocessing.image import *\n",
    "from keras.models import Sequential\n",
    "from keras.layers import Conv2D, MaxPooling2D\n",
    "from keras.layers import Activation, Dropout, Flatten, Dense, ZeroPadding2D\n",
    "from keras.layers import BatchNormalization\n",
    "from keras import initializers\n",
    "from keras import regularizers\n",
    "from keras.layers.advanced_activations import LeakyReLU\n",
    "\n",
    "\n"
   ]
  },
  {
   "cell_type": "code",
   "execution_count": 2,
   "metadata": {},
   "outputs": [
    {
     "data": {
      "text/plain": [
       "''"
      ]
     },
     "execution_count": 2,
     "metadata": {},
     "output_type": "execute_result"
    }
   ],
   "source": [
    "import tensorflow as tf\n",
    "\n",
    "tf.test.gpu_device_name()"
   ]
  },
  {
   "cell_type": "code",
   "execution_count": 3,
   "metadata": {},
   "outputs": [],
   "source": [
    "# Sizes of the scaled images\n",
    "height = 512\n",
    "width = 512\n",
    "\n",
    "ROOT_PATH = '../../ISIC-Archive-Downloader/Data/'\n",
    "\n",
    "\n",
    "train_directory_path = ROOT_PATH + 'train2'\n",
    "\n",
    "test_directory_path = ROOT_PATH + 'test2'\n",
    "\n",
    "# Number of training example (10k cats + 10k dogs in train directory)\n",
    "train_samples = 2000\n",
    "validation_samples = 2000\n",
    "\n",
    "\n",
    "number_of_epochs = 40\n",
    "\n",
    "batch_size = 16"
   ]
  },
  {
   "cell_type": "code",
   "execution_count": 4,
   "metadata": {},
   "outputs": [
    {
     "name": "stdout",
     "output_type": "stream",
     "text": [
      "Found 2000 images belonging to 2 classes.\n",
      "Found 1684 images belonging to 2 classes.\n"
     ]
    }
   ],
   "source": [
    "train_data = ImageDataGenerator(\n",
    "     rescale=1 / 255\n",
    ")#     shear_range=0.2,\n",
    "#     zoom_range=0.2,\n",
    "#     horizontal_flip=True)\n",
    "\n",
    "#train_data = ImageDataGenerator()\n",
    "\n",
    "test_datagen = ImageDataGenerator()\n",
    "\n",
    "train_generator = train_data.flow_from_directory(\n",
    "    train_directory_path,\n",
    "    target_size=(width, height),\n",
    "    batch_size=batch_size,\n",
    "    class_mode='binary')\n",
    "\n",
    "validation_generator = test_datagen.flow_from_directory(\n",
    "    test_directory_path,\n",
    "    target_size=(width, height),\n",
    "    batch_size=batch_size,\n",
    "    class_mode='binary')"
   ]
  },
  {
   "cell_type": "code",
   "execution_count": 5,
   "metadata": {},
   "outputs": [
    {
     "name": "stdout",
     "output_type": "stream",
     "text": [
      "WARNING:tensorflow:From C:\\Programy\\Anaconda3\\lib\\site-packages\\tensorflow\\python\\framework\\op_def_library.py:263: colocate_with (from tensorflow.python.framework.ops) is deprecated and will be removed in a future version.\n",
      "Instructions for updating:\n",
      "Colocations handled automatically by placer.\n"
     ]
    }
   ],
   "source": [
    "# We will be using ZeroPadding to ensure that after convolution sizes will stay the same\n",
    "# 'Glorot_uniform' - its Xavier initializer, to more sensible way to initialize weights rather than entirely randomly\n",
    "\n",
    "model = Sequential()\n",
    "\n",
    "model.add(Conv2D(32, (3, 3), input_shape=(width, height, 3)))\n",
    "model.add(Activation(\"relu\"))\n",
    "model.add(MaxPooling2D(pool_size=(2, 2)))\n",
    "\n",
    "model.add(Conv2D(64, (3, 3)))\n",
    "model.add(Activation(\"relu\"))\n",
    "model.add(MaxPooling2D(pool_size=(2, 2)))\n",
    "\n",
    "model.add(Conv2D(128, (3, 3)))\n",
    "model.add(Activation(\"relu\"))\n",
    "model.add(MaxPooling2D(pool_size=(2, 2)))\n",
    "\n",
    "model.add(Conv2D(256, (3, 3)))\n",
    "model.add(Activation(\"relu\"))\n",
    "model.add(MaxPooling2D(pool_size=(2, 2)))\n",
    "\n",
    "model.add(Conv2D(256, (3, 3)))\n",
    "model.add(Activation(\"relu\"))\n",
    "model.add(MaxPooling2D(pool_size=(2, 2)))\n",
    "\n",
    "\n",
    "model.add(Conv2D(256, (3, 3)))\n",
    "model.add(Activation(\"relu\"))\n",
    "model.add(MaxPooling2D(pool_size=(2, 2)))\n",
    "\n",
    "model.add(Flatten())\n",
    "model.add(Dense(4))\n",
    "model.add(Activation(\"relu\"))\n",
    "model.add(Dense(1))\n",
    "model.add(Activation(\"sigmoid\"))"
   ]
  },
  {
   "cell_type": "code",
   "execution_count": 6,
   "metadata": {},
   "outputs": [],
   "source": [
    "model.compile(optimizer='adam',\n",
    "              loss='binary_crossentropy',\n",
    "              metrics=['accuracy'])"
   ]
  },
  {
   "cell_type": "code",
   "execution_count": 7,
   "metadata": {
    "scrolled": true
   },
   "outputs": [
    {
     "name": "stdout",
     "output_type": "stream",
     "text": [
      "WARNING:tensorflow:From C:\\Programy\\Anaconda3\\lib\\site-packages\\tensorflow\\python\\ops\\math_ops.py:3066: to_int32 (from tensorflow.python.ops.math_ops) is deprecated and will be removed in a future version.\n",
      "Instructions for updating:\n",
      "Use tf.cast instead.\n",
      "Epoch 1/40\n",
      "1/1 [==============================] - 22s 22s/step - loss: 0.6815 - acc: 0.8125 - val_loss: 8.0957 - val_acc: 0.4922\n",
      "Epoch 2/40\n",
      "1/1 [==============================] - 19s 19s/step - loss: 1.1933 - acc: 0.5000 - val_loss: 8.9676 - val_acc: 0.4375\n",
      "Epoch 3/40\n",
      "1/1 [==============================] - 18s 18s/step - loss: 0.6915 - acc: 0.5000 - val_loss: 0.6931 - val_acc: 0.5781\n",
      "Epoch 4/40\n",
      "1/1 [==============================] - 18s 18s/step - loss: 0.6931 - acc: 0.6250 - val_loss: 0.6932 - val_acc: 0.4766\n",
      "Epoch 5/40\n",
      "1/1 [==============================] - 19s 19s/step - loss: 0.6931 - acc: 0.5625 - val_loss: 0.6931 - val_acc: 0.5000\n",
      "Epoch 6/40\n",
      "1/1 [==============================] - 18s 18s/step - loss: 0.6932 - acc: 0.4375 - val_loss: 0.6931 - val_acc: 0.5391\n",
      "Epoch 7/40\n",
      "1/1 [==============================] - 19s 19s/step - loss: 0.6933 - acc: 0.3125 - val_loss: 0.6931 - val_acc: 0.5000\n",
      "Epoch 8/40\n",
      "1/1 [==============================] - 18s 18s/step - loss: 0.6931 - acc: 0.5000 - val_loss: 0.6931 - val_acc: 0.5625\n",
      "Epoch 9/40\n",
      "1/1 [==============================] - 20s 20s/step - loss: 0.6932 - acc: 0.4375 - val_loss: 0.6932 - val_acc: 0.3906\n",
      "Epoch 10/40\n",
      "1/1 [==============================] - 20s 20s/step - loss: 0.6931 - acc: 0.6250 - val_loss: 0.6931 - val_acc: 0.5078\n",
      "Epoch 11/40\n",
      "1/1 [==============================] - 21s 21s/step - loss: 0.6931 - acc: 0.5625 - val_loss: 0.6931 - val_acc: 0.5469\n",
      "Epoch 12/40\n",
      "1/1 [==============================] - 18s 18s/step - loss: 0.6931 - acc: 0.6250 - val_loss: 0.6931 - val_acc: 0.4922\n",
      "Epoch 13/40\n",
      "1/1 [==============================] - 19s 19s/step - loss: 0.6931 - acc: 0.6875 - val_loss: 0.6932 - val_acc: 0.4609\n",
      "Epoch 14/40\n",
      "1/1 [==============================] - 18s 18s/step - loss: 0.6931 - acc: 0.5000 - val_loss: 0.6932 - val_acc: 0.4828\n",
      "Epoch 15/40\n",
      "1/1 [==============================] - 20s 20s/step - loss: 0.6931 - acc: 0.5625 - val_loss: 0.6932 - val_acc: 0.4531\n",
      "Epoch 16/40\n",
      "1/1 [==============================] - 18s 18s/step - loss: 0.6932 - acc: 0.4375 - val_loss: 0.6932 - val_acc: 0.4375\n",
      "Epoch 17/40\n",
      "1/1 [==============================] - 18s 18s/step - loss: 0.6931 - acc: 0.5000 - val_loss: 0.6932 - val_acc: 0.4844\n",
      "Epoch 18/40\n",
      "1/1 [==============================] - 18s 18s/step - loss: 0.6929 - acc: 0.7500 - val_loss: 0.6932 - val_acc: 0.4844\n",
      "Epoch 19/40\n",
      "1/1 [==============================] - 18s 18s/step - loss: 0.6933 - acc: 0.3750 - val_loss: 0.6931 - val_acc: 0.5156\n",
      "Epoch 20/40\n",
      "1/1 [==============================] - 17s 17s/step - loss: 0.6931 - acc: 0.5000 - val_loss: 0.6932 - val_acc: 0.4453\n",
      "Epoch 21/40\n",
      "1/1 [==============================] - 18s 18s/step - loss: 0.6933 - acc: 0.4375 - val_loss: 0.6931 - val_acc: 0.5156\n",
      "Epoch 22/40\n",
      "1/1 [==============================] - 18s 18s/step - loss: 0.6933 - acc: 0.4375 - val_loss: 0.6930 - val_acc: 0.5781\n",
      "Epoch 23/40\n",
      "1/1 [==============================] - 18s 18s/step - loss: 0.6931 - acc: 0.5000 - val_loss: 0.6932 - val_acc: 0.4609\n",
      "Epoch 24/40\n",
      "1/1 [==============================] - 17s 17s/step - loss: 0.6938 - acc: 0.1875 - val_loss: 0.6931 - val_acc: 0.5078\n",
      "Epoch 25/40\n",
      "1/1 [==============================] - 18s 18s/step - loss: 0.6934 - acc: 0.3750 - val_loss: 0.6931 - val_acc: 0.5156\n",
      "Epoch 26/40\n",
      "1/1 [==============================] - 18s 18s/step - loss: 0.6934 - acc: 0.3125 - val_loss: 0.6930 - val_acc: 0.6250\n",
      "Epoch 27/40\n",
      "1/1 [==============================] - 16s 16s/step - loss: 0.6931 - acc: 0.5000 - val_loss: 0.6932 - val_acc: 0.4914\n",
      "Epoch 28/40\n",
      "1/1 [==============================] - 17s 17s/step - loss: 0.6931 - acc: 0.5000 - val_loss: 0.6932 - val_acc: 0.4531\n",
      "Epoch 29/40\n",
      "1/1 [==============================] - 18s 18s/step - loss: 0.6930 - acc: 0.7500 - val_loss: 0.6931 - val_acc: 0.5078\n",
      "Epoch 30/40\n",
      "1/1 [==============================] - 18s 18s/step - loss: 0.6931 - acc: 0.5625 - val_loss: 0.6931 - val_acc: 0.5156\n",
      "Epoch 31/40\n",
      "1/1 [==============================] - 18s 18s/step - loss: 0.6931 - acc: 0.6250 - val_loss: 0.6931 - val_acc: 0.5156\n",
      "Epoch 32/40\n",
      "1/1 [==============================] - 18s 18s/step - loss: 0.6933 - acc: 0.2500 - val_loss: 0.6931 - val_acc: 0.5703\n",
      "Epoch 33/40\n",
      "1/1 [==============================] - 17s 17s/step - loss: 0.6932 - acc: 0.3125 - val_loss: 0.6932 - val_acc: 0.4688\n",
      "Epoch 34/40\n",
      "1/1 [==============================] - 18s 18s/step - loss: 0.6931 - acc: 0.6875 - val_loss: 0.6931 - val_acc: 0.5156\n",
      "Epoch 35/40\n",
      "1/1 [==============================] - 17s 17s/step - loss: 0.6931 - acc: 0.5000 - val_loss: 0.6931 - val_acc: 0.5078\n",
      "Epoch 36/40\n",
      "1/1 [==============================] - 17s 17s/step - loss: 0.6932 - acc: 0.2500 - val_loss: 0.6931 - val_acc: 0.5547\n",
      "Epoch 37/40\n",
      "1/1 [==============================] - 17s 17s/step - loss: 0.6932 - acc: 0.3750 - val_loss: 0.6931 - val_acc: 0.5234\n",
      "Epoch 38/40\n",
      "1/1 [==============================] - 17s 17s/step - loss: 0.6931 - acc: 0.5000 - val_loss: 0.6931 - val_acc: 0.5078\n",
      "Epoch 39/40\n",
      "1/1 [==============================] - 18s 18s/step - loss: 0.6931 - acc: 0.5000 - val_loss: 0.6932 - val_acc: 0.4844\n",
      "Epoch 40/40\n",
      "1/1 [==============================] - 16s 16s/step - loss: 0.6930 - acc: 0.8125 - val_loss: 0.6932 - val_acc: 0.4914\n"
     ]
    },
    {
     "data": {
      "text/plain": [
       "<keras.callbacks.History at 0x22c83c8b1d0>"
      ]
     },
     "execution_count": 7,
     "metadata": {},
     "output_type": "execute_result"
    }
   ],
   "source": [
    "model.fit_generator(\n",
    "    train_generator,\n",
    "    steps_per_epoch=1,\n",
    "    epochs=number_of_epochs,\n",
    "    validation_data=validation_generator,\n",
    "    validation_steps=8)"
   ]
  },
  {
   "cell_type": "code",
   "execution_count": 8,
   "metadata": {},
   "outputs": [
    {
     "name": "stdout",
     "output_type": "stream",
     "text": [
      "_________________________________________________________________\n",
      "Layer (type)                 Output Shape              Param #   \n",
      "=================================================================\n",
      "conv2d_1 (Conv2D)            (None, 510, 510, 32)      896       \n",
      "_________________________________________________________________\n",
      "activation_1 (Activation)    (None, 510, 510, 32)      0         \n",
      "_________________________________________________________________\n",
      "max_pooling2d_1 (MaxPooling2 (None, 255, 255, 32)      0         \n",
      "_________________________________________________________________\n",
      "conv2d_2 (Conv2D)            (None, 253, 253, 64)      18496     \n",
      "_________________________________________________________________\n",
      "activation_2 (Activation)    (None, 253, 253, 64)      0         \n",
      "_________________________________________________________________\n",
      "max_pooling2d_2 (MaxPooling2 (None, 126, 126, 64)      0         \n",
      "_________________________________________________________________\n",
      "conv2d_3 (Conv2D)            (None, 124, 124, 128)     73856     \n",
      "_________________________________________________________________\n",
      "activation_3 (Activation)    (None, 124, 124, 128)     0         \n",
      "_________________________________________________________________\n",
      "max_pooling2d_3 (MaxPooling2 (None, 62, 62, 128)       0         \n",
      "_________________________________________________________________\n",
      "conv2d_4 (Conv2D)            (None, 60, 60, 256)       295168    \n",
      "_________________________________________________________________\n",
      "activation_4 (Activation)    (None, 60, 60, 256)       0         \n",
      "_________________________________________________________________\n",
      "max_pooling2d_4 (MaxPooling2 (None, 30, 30, 256)       0         \n",
      "_________________________________________________________________\n",
      "conv2d_5 (Conv2D)            (None, 28, 28, 256)       590080    \n",
      "_________________________________________________________________\n",
      "activation_5 (Activation)    (None, 28, 28, 256)       0         \n",
      "_________________________________________________________________\n",
      "max_pooling2d_5 (MaxPooling2 (None, 14, 14, 256)       0         \n",
      "_________________________________________________________________\n",
      "conv2d_6 (Conv2D)            (None, 12, 12, 256)       590080    \n",
      "_________________________________________________________________\n",
      "activation_6 (Activation)    (None, 12, 12, 256)       0         \n",
      "_________________________________________________________________\n",
      "max_pooling2d_6 (MaxPooling2 (None, 6, 6, 256)         0         \n",
      "_________________________________________________________________\n",
      "flatten_1 (Flatten)          (None, 9216)              0         \n",
      "_________________________________________________________________\n",
      "dense_1 (Dense)              (None, 4)                 36868     \n",
      "_________________________________________________________________\n",
      "activation_7 (Activation)    (None, 4)                 0         \n",
      "_________________________________________________________________\n",
      "dense_2 (Dense)              (None, 1)                 5         \n",
      "_________________________________________________________________\n",
      "activation_8 (Activation)    (None, 1)                 0         \n",
      "=================================================================\n",
      "Total params: 1,605,449\n",
      "Trainable params: 1,605,449\n",
      "Non-trainable params: 0\n",
      "_________________________________________________________________\n"
     ]
    }
   ],
   "source": [
    "model.summary()"
   ]
  },
  {
   "cell_type": "code",
   "execution_count": null,
   "metadata": {},
   "outputs": [],
   "source": []
  },
  {
   "cell_type": "code",
   "execution_count": null,
   "metadata": {},
   "outputs": [],
   "source": []
  },
  {
   "cell_type": "code",
   "execution_count": null,
   "metadata": {},
   "outputs": [],
   "source": []
  }
 ],
 "metadata": {
  "kernelspec": {
   "display_name": "Python 3",
   "language": "python",
   "name": "python3"
  },
  "language_info": {
   "codemirror_mode": {
    "name": "ipython",
    "version": 3
   },
   "file_extension": ".py",
   "mimetype": "text/x-python",
   "name": "python",
   "nbconvert_exporter": "python",
   "pygments_lexer": "ipython3",
   "version": "3.7.3"
  }
 },
 "nbformat": 4,
 "nbformat_minor": 2
}
