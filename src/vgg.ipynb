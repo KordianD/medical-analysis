{
 "cells": [
  {
   "cell_type": "code",
   "execution_count": 19,
   "metadata": {},
   "outputs": [],
   "source": [
    "from keras.preprocessing.image import ImageDataGenerator\n",
    "from keras.preprocessing.image import *\n",
    "from keras.models import Sequential\n",
    "from keras.layers import Conv2D, MaxPooling2D\n",
    "from keras.layers import Activation, Dropout, Flatten, Dense, ZeroPadding2D\n",
    "from keras.layers import BatchNormalization\n",
    "from keras import initializers\n",
    "from keras import regularizers\n",
    "from keras.layers.advanced_activations import LeakyReLU\n",
    "\n",
    "import pandas as pd\n",
    "import numpy as np\n",
    "import os\n",
    "import keras\n",
    "import matplotlib.pyplot as plt\n",
    "from keras.layers import Dense,GlobalAveragePooling2D\n",
    "from keras.applications import MobileNet\n",
    "from keras.preprocessing import image\n",
    "from keras.applications.mobilenet import preprocess_input\n",
    "from keras.preprocessing.image import ImageDataGenerator\n",
    "from keras.models import Model\n",
    "from keras.optimizers import Adam\n"
   ]
  },
  {
   "cell_type": "code",
   "execution_count": 20,
   "metadata": {},
   "outputs": [],
   "source": [
    "base_model=MobileNet(weights='imagenet',include_top=False) #imports the mobilenet model and discards the last 1000 neuron layer.\n",
    "\n",
    "x=base_model.output\n",
    "x=GlobalAveragePooling2D()(x)\n",
    "x=Dense(1024,activation='relu')(x) #we add dense layers so that the model can learn more complex functions and classify for better results.\n",
    "x=Dense(1024,activation='relu')(x) #dense layer 2\n",
    "x=Dense(512,activation='relu')(x) #dense layer 3\n",
    "preds=Dense(2,activation='softmax')(x) #final layer with softmax activation"
   ]
  },
  {
   "cell_type": "code",
   "execution_count": 21,
   "metadata": {},
   "outputs": [
    {
     "name": "stdout",
     "output_type": "stream",
     "text": [
      "436.5\n"
     ]
    }
   ],
   "source": [
    "# Sizes of the scaled images\n",
    "height = 512\n",
    "width = 512\n",
    "\n",
    "ROOT_PATH = '../../ISIC-Archive-Downloader/Data/'\n",
    "\n",
    "\n",
    "train_directory_path = ROOT_PATH + 'train2'\n",
    "\n",
    "test_directory_path = ROOT_PATH + 'test'\n",
    "\n",
    "# Number of training example (10k cats + 10k dogs in train directory)\n",
    "train_samples = 20000\n",
    "validation_samples = 5000\n",
    "\n",
    "\n",
    "number_of_epochs = 2\n",
    "\n",
    "batch_size = 16\n",
    "\n",
    "steps_training_epochs = 6984 / batch_size\n",
    "print(steps_training_epochs)"
   ]
  },
  {
   "cell_type": "code",
   "execution_count": 22,
   "metadata": {},
   "outputs": [
    {
     "name": "stdout",
     "output_type": "stream",
     "text": [
      "Found 400 images belonging to 2 classes.\n",
      "Found 6984 images belonging to 2 classes.\n"
     ]
    }
   ],
   "source": [
    "train_data = ImageDataGenerator(\n",
    "     rescale=1 / 255\n",
    ")#     shear_range=0.2,\n",
    "#     zoom_range=0.2,\n",
    "#     horizontal_flip=True)\n",
    "\n",
    "#train_data = ImageDataGenerator()\n",
    "\n",
    "test_datagen = ImageDataGenerator()\n",
    "\n",
    "train_generator = train_data.flow_from_directory(\n",
    "    train_directory_path,\n",
    "    target_size=(width, height),\n",
    "    batch_size=batch_size,\n",
    "    class_mode='categorical')\n",
    "\n",
    "validation_generator = test_datagen.flow_from_directory(\n",
    "    test_directory_path,\n",
    "    target_size=(width, height),\n",
    "    batch_size=batch_size,\n",
    "    class_mode='categorical')"
   ]
  },
  {
   "cell_type": "code",
   "execution_count": 23,
   "metadata": {},
   "outputs": [],
   "source": [
    "model=Model(inputs=base_model.input,outputs=preds)\n",
    "\n",
    "\n",
    "for layer in model.layers:\n",
    "    layer.trainable=False"
   ]
  },
  {
   "cell_type": "code",
   "execution_count": 24,
   "metadata": {},
   "outputs": [],
   "source": [
    "\n",
    "model.compile(optimizer='Adam',loss='categorical_crossentropy',metrics=['accuracy'])"
   ]
  },
  {
   "cell_type": "code",
   "execution_count": null,
   "metadata": {},
   "outputs": [
    {
     "name": "stdout",
     "output_type": "stream",
     "text": [
      "Epoch 1/10\n",
      "14/25 [===============>..............] - ETA: 1:34 - loss: 0.7025 - acc: 0.5000"
     ]
    }
   ],
   "source": [
    "step_size_train=train_generator.n//train_generator.batch_size\n",
    "model.fit_generator(generator=train_generator,\n",
    "                   steps_per_epoch=step_size_train,\n",
    "                   epochs=10)"
   ]
  },
  {
   "cell_type": "code",
   "execution_count": 179,
   "metadata": {
    "scrolled": true
   },
   "outputs": [
    {
     "name": "stdout",
     "output_type": "stream",
     "text": [
      "_________________________________________________________________\n",
      "Layer (type)                 Output Shape              Param #   \n",
      "=================================================================\n",
      "conv2d_124 (Conv2D)          (None, 510, 510, 32)      896       \n",
      "_________________________________________________________________\n",
      "activation_96 (Activation)   (None, 510, 510, 32)      0         \n",
      "_________________________________________________________________\n",
      "max_pooling2d_109 (MaxPoolin (None, 255, 255, 32)      0         \n",
      "_________________________________________________________________\n",
      "conv2d_125 (Conv2D)          (None, 253, 253, 64)      18496     \n",
      "_________________________________________________________________\n",
      "activation_97 (Activation)   (None, 253, 253, 64)      0         \n",
      "_________________________________________________________________\n",
      "max_pooling2d_110 (MaxPoolin (None, 126, 126, 64)      0         \n",
      "_________________________________________________________________\n",
      "conv2d_126 (Conv2D)          (None, 124, 124, 128)     73856     \n",
      "_________________________________________________________________\n",
      "activation_98 (Activation)   (None, 124, 124, 128)     0         \n",
      "_________________________________________________________________\n",
      "max_pooling2d_111 (MaxPoolin (None, 62, 62, 128)       0         \n",
      "_________________________________________________________________\n",
      "conv2d_127 (Conv2D)          (None, 60, 60, 256)       295168    \n",
      "_________________________________________________________________\n",
      "activation_99 (Activation)   (None, 60, 60, 256)       0         \n",
      "_________________________________________________________________\n",
      "max_pooling2d_112 (MaxPoolin (None, 30, 30, 256)       0         \n",
      "_________________________________________________________________\n",
      "conv2d_128 (Conv2D)          (None, 28, 28, 256)       590080    \n",
      "_________________________________________________________________\n",
      "activation_100 (Activation)  (None, 28, 28, 256)       0         \n",
      "_________________________________________________________________\n",
      "max_pooling2d_113 (MaxPoolin (None, 14, 14, 256)       0         \n",
      "_________________________________________________________________\n",
      "conv2d_129 (Conv2D)          (None, 12, 12, 512)       1180160   \n",
      "_________________________________________________________________\n",
      "activation_101 (Activation)  (None, 12, 12, 512)       0         \n",
      "_________________________________________________________________\n",
      "max_pooling2d_114 (MaxPoolin (None, 6, 6, 512)         0         \n",
      "_________________________________________________________________\n",
      "flatten_37 (Flatten)         (None, 18432)             0         \n",
      "_________________________________________________________________\n",
      "dense_64 (Dense)             (None, 4)                 73732     \n",
      "_________________________________________________________________\n",
      "activation_102 (Activation)  (None, 4)                 0         \n",
      "_________________________________________________________________\n",
      "dense_65 (Dense)             (None, 1)                 5         \n",
      "_________________________________________________________________\n",
      "activation_103 (Activation)  (None, 1)                 0         \n",
      "=================================================================\n",
      "Total params: 2,232,393\n",
      "Trainable params: 2,232,393\n",
      "Non-trainable params: 0\n",
      "_________________________________________________________________\n"
     ]
    }
   ],
   "source": [
    "model.summary()"
   ]
  },
  {
   "cell_type": "code",
   "execution_count": null,
   "metadata": {},
   "outputs": [],
   "source": []
  }
 ],
 "metadata": {
  "kernelspec": {
   "display_name": "Python 3",
   "language": "python",
   "name": "python3"
  },
  "language_info": {
   "codemirror_mode": {
    "name": "ipython",
    "version": 3
   },
   "file_extension": ".py",
   "mimetype": "text/x-python",
   "name": "python",
   "nbconvert_exporter": "python",
   "pygments_lexer": "ipython3",
   "version": "3.7.1"
  }
 },
 "nbformat": 4,
 "nbformat_minor": 2
}
